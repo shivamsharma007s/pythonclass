{
 "cells": [
  {
   "cell_type": "code",
   "execution_count": 1,
   "id": "48f23a65-0451-442d-ac25-3f2539132caf",
   "metadata": {},
   "outputs": [
    {
     "name": "stdout",
     "output_type": "stream",
     "text": [
      "0b110\n"
     ]
    }
   ],
   "source": [
    "a=6\n",
    "bins=bin(a)\n",
    "print(bins)\n"
   ]
  },
  {
   "cell_type": "code",
   "execution_count": 4,
   "id": "56c81d3e-0323-4991-a27a-6ed04fb6a9af",
   "metadata": {},
   "outputs": [
    {
     "data": {
      "text/plain": [
       "-7"
      ]
     },
     "execution_count": 4,
     "metadata": {},
     "output_type": "execute_result"
    }
   ],
   "source": [
    "~a\n"
   ]
  },
  {
   "cell_type": "code",
   "execution_count": 6,
   "id": "a22f4e80-9513-4fcb-b0b7-b09295f79fa6",
   "metadata": {},
   "outputs": [
    {
     "name": "stdout",
     "output_type": "stream",
     "text": [
      "-0b111\n"
     ]
    }
   ],
   "source": [
    "~a\n",
    "binnota=bin(~a)\n",
    "print(binnota)"
   ]
  },
  {
   "cell_type": "code",
   "execution_count": 8,
   "id": "3c538f56-1ab7-45a8-b135-cf14a6bcc649",
   "metadata": {},
   "outputs": [
    {
     "data": {
      "text/plain": [
       "(7, 7)"
      ]
     },
     "execution_count": 8,
     "metadata": {},
     "output_type": "execute_result"
    }
   ],
   "source": [
    "a=6\n",
    "b=1\n",
    "c=a|b\n",
    "d=a^b\n",
    "c,d\n"
   ]
  },
  {
   "cell_type": "code",
   "execution_count": 10,
   "id": "b077a7b6-8569-415c-aa67-0be1ea99dd6c",
   "metadata": {},
   "outputs": [
    {
     "data": {
      "text/plain": [
       "32"
      ]
     },
     "execution_count": 10,
     "metadata": {},
     "output_type": "execute_result"
    }
   ],
   "source": [
    "a= 128\n",
    "rshift = a >> 2 #right shift\n",
    "rshift"
   ]
  },
  {
   "cell_type": "code",
   "execution_count": 14,
   "id": "c8355645-46c7-43ec-a167-f3b1171747fd",
   "metadata": {},
   "outputs": [
    {
     "name": "stdout",
     "output_type": "stream",
     "text": [
      "decimal value is 512 and its binary value is 0b1000000000\n"
     ]
    }
   ],
   "source": [
    "a=128\n",
    "lshift = a << 2\n",
    "lshift\n",
    "print(f\"decimal value is {lshift} and its binary value is {bin(lshift)}\")"
   ]
  },
  {
   "cell_type": "code",
   "execution_count": 21,
   "id": "03547096-ba90-4e81-84f5-25bfef10f6ec",
   "metadata": {},
   "outputs": [
    {
     "data": {
      "text/plain": [
       "'0'"
      ]
     },
     "execution_count": 21,
     "metadata": {},
     "output_type": "execute_result"
    }
   ],
   "source": [
    "a = \"0 1 2 3 4 5 6 7 8 9\"\n",
    "a[0]"
   ]
  },
  {
   "cell_type": "code",
   "execution_count": 23,
   "id": "4d2d254f-ca88-4b3a-97ed-4d4acd0b8aec",
   "metadata": {},
   "outputs": [
    {
     "data": {
      "text/plain": [
       "' '"
      ]
     },
     "execution_count": 23,
     "metadata": {},
     "output_type": "execute_result"
    }
   ],
   "source": [
    "a[1]"
   ]
  },
  {
   "cell_type": "code",
   "execution_count": 25,
   "id": "7d1936cf-943d-4b99-bd87-3774f296397e",
   "metadata": {},
   "outputs": [
    {
     "data": {
      "text/plain": [
       "'a'"
      ]
     },
     "execution_count": 25,
     "metadata": {},
     "output_type": "execute_result"
    }
   ],
   "source": [
    "b=\"abcdefghi\"\n",
    "b[0]"
   ]
  },
  {
   "cell_type": "code",
   "execution_count": 27,
   "id": "f8a7f853-4f31-46eb-a540-f000fdcae2a1",
   "metadata": {},
   "outputs": [
    {
     "data": {
      "text/plain": [
       "'abcde'"
      ]
     },
     "execution_count": 27,
     "metadata": {},
     "output_type": "execute_result"
    }
   ],
   "source": [
    "b[0:5]"
   ]
  },
  {
   "cell_type": "code",
   "execution_count": 29,
   "id": "6ef1b7ee-0b58-4a5b-a4d0-5c6a6ce41669",
   "metadata": {},
   "outputs": [
    {
     "data": {
      "text/plain": [
       "9"
      ]
     },
     "execution_count": 29,
     "metadata": {},
     "output_type": "execute_result"
    }
   ],
   "source": [
    "len(b)"
   ]
  },
  {
   "cell_type": "code",
   "execution_count": 31,
   "id": "5697301d-411f-4b29-895e-8e9006c4e074",
   "metadata": {},
   "outputs": [
    {
     "data": {
      "text/plain": [
       "'abcdefghi'"
      ]
     },
     "execution_count": 31,
     "metadata": {},
     "output_type": "execute_result"
    }
   ],
   "source": [
    "b[0 : len(b)]\n"
   ]
  },
  {
   "cell_type": "code",
   "execution_count": null,
   "id": "ce959b64-4600-4845-8858-565673800308",
   "metadata": {},
   "outputs": [
    {
     "name": "stdin",
     "output_type": "stream",
     "text": [
      "enter a number 4\n"
     ]
    },
    {
     "name": "stdout",
     "output_type": "stream",
     "text": [
      "4 * 1 = 4\n",
      "4 * 2 = 8\n",
      "4 * 3 = 12\n",
      "4 * 4 = 16\n",
      "4 * 5 = 20\n"
     ]
    }
   ],
   "source": [
    "x=1\n",
    "y=int(input(\"enter a number\"))\n",
    "while x<=50:\n",
    "    #print(f\"{y} * {x} = { x*y }\")\n",
    "   # x=x+1\n",
    "    print(x)\n",
    "    if x >5:\n",
    "        continue\n",
    "    print(f\"{y} * {x} = { x*y }\")\n",
    "    x=x+1\n",
    "    if x > 20:\n",
    "        break"
   ]
  },
  {
   "cell_type": "code",
   "execution_count": null,
   "id": "5c8e6942-2208-4850-819f-e67485dd5026",
   "metadata": {},
   "outputs": [],
   "source": []
  }
 ],
 "metadata": {
  "kernelspec": {
   "display_name": "Python 3 (ipykernel)",
   "language": "python",
   "name": "python3"
  },
  "language_info": {
   "codemirror_mode": {
    "name": "ipython",
    "version": 3
   },
   "file_extension": ".py",
   "mimetype": "text/x-python",
   "name": "python",
   "nbconvert_exporter": "python",
   "pygments_lexer": "ipython3",
   "version": "3.12.4"
  }
 },
 "nbformat": 4,
 "nbformat_minor": 5
}
