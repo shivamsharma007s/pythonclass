{
 "cells": [
  {
   "cell_type": "code",
   "execution_count": 3,
   "id": "a1ef9c99-32d3-4f7d-9734-62c62ff1b793",
   "metadata": {},
   "outputs": [
    {
     "name": "stdout",
     "output_type": "stream",
     "text": [
      "[0, 1, 4, 9, 16, 25, 36, 49, 64, 81]\n"
     ]
    }
   ],
   "source": [
    "#creating a list of squares\n",
    "squares = [x**2 for x in range(10)]\n",
    "print(squares)\n"
   ]
  },
  {
   "cell_type": "code",
   "execution_count": 5,
   "id": "a7c213bf-e39b-477b-9b10-4646e8bf9fbf",
   "metadata": {},
   "outputs": [
    {
     "name": "stdout",
     "output_type": "stream",
     "text": [
      "[0, 2, 4, 6, 8, 10, 12, 14, 16, 18]\n"
     ]
    }
   ],
   "source": [
    "#filtering even numbers\n",
    "evens = [x for x in range(20) if x % 2 == 0]\n",
    "print(evens)\n"
   ]
  },
  {
   "cell_type": "code",
   "execution_count": 7,
   "id": "c820716e-6249-4af2-b241-7946b35fc5bb",
   "metadata": {},
   "outputs": [
    {
     "name": "stdout",
     "output_type": "stream",
     "text": [
      "[5, 6, 6]\n"
     ]
    }
   ],
   "source": [
    "#applying function to a list element\n",
    "fruits = ['apple', 'banana', 'cherry']\n",
    "fruit_lengths = [len(fruit) for fruit in fruits]\n",
    "print(fruit_lengths)\n"
   ]
  },
  {
   "cell_type": "code",
   "execution_count": 9,
   "id": "09e2fac4-b297-4f1d-845d-64264603f783",
   "metadata": {},
   "outputs": [
    {
     "name": "stdout",
     "output_type": "stream",
     "text": [
      "[1, 2, 3, 4, 5, 6, 7, 8, 9]\n"
     ]
    }
   ],
   "source": [
    "#nested list comprehension\n",
    "matrix = [[1, 2, 3], [4, 5, 6], [7, 8, 9]]\n",
    "flattened = [num for row in matrix for num in row]\n",
    "print(flattened)\n"
   ]
  },
  {
   "cell_type": "code",
   "execution_count": 11,
   "id": "6f62ae61-2861-4262-8046-9e779b45008d",
   "metadata": {},
   "outputs": [
    {
     "name": "stdout",
     "output_type": "stream",
     "text": [
      "{0: 0, 1: 1, 2: 4, 3: 9, 4: 16}\n"
     ]
    }
   ],
   "source": [
    "#creating a Dictionary of squares\n",
    "squares_dict = {x: x**2 for x in range(5)}\n",
    "print(squares_dict)\n"
   ]
  },
  {
   "cell_type": "code",
   "execution_count": 13,
   "id": "781bbc10-55fc-4c31-950b-c845b16af015",
   "metadata": {},
   "outputs": [
    {
     "name": "stdout",
     "output_type": "stream",
     "text": [
      "{'apple': 5, 'banana': 6, 'cherry': 6}\n"
     ]
    }
   ],
   "source": [
    "#filtering items in dictionary\n",
    "fruits = ['apple', 'banana', 'cherry']\n",
    "fruit_dict = {fruit: len(fruit) for fruit in fruits}\n",
    "print(fruit_dict)"
   ]
  },
  {
   "cell_type": "code",
   "execution_count": 15,
   "id": "b8c81bd0-b8cc-4f64-8268-e31a706ce3a5",
   "metadata": {},
   "outputs": [
    {
     "name": "stdout",
     "output_type": "stream",
     "text": [
      "{1: 'a', 2: 'b', 3: 'c'}\n"
     ]
    }
   ],
   "source": [
    "#inverting a dictionary\n",
    "original_dict = {'a': 1, 'b': 2, 'c': 3}\n",
    "inverted_dict = {value: key for key, value in original_dict.items()}\n",
    "print(inverted_dict)\n"
   ]
  },
  {
   "cell_type": "code",
   "execution_count": null,
   "id": "77ed06b9-c511-40a0-acee-6762b1d2094b",
   "metadata": {},
   "outputs": [],
   "source": []
  }
 ],
 "metadata": {
  "kernelspec": {
   "display_name": "Python 3 (ipykernel)",
   "language": "python",
   "name": "python3"
  },
  "language_info": {
   "codemirror_mode": {
    "name": "ipython",
    "version": 3
   },
   "file_extension": ".py",
   "mimetype": "text/x-python",
   "name": "python",
   "nbconvert_exporter": "python",
   "pygments_lexer": "ipython3",
   "version": "3.12.4"
  }
 },
 "nbformat": 4,
 "nbformat_minor": 5
}
