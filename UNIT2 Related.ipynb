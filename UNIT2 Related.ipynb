{
 "cells": [
  {
   "cell_type": "code",
   "execution_count": null,
   "id": "3564bdf0-145e-4b6b-adef-52fb907bbb09",
   "metadata": {},
   "outputs": [],
   "source": [
    "# skeleton\n",
    "def generate_email_addresses(sap_ids):\n",
    "    # your logic\n",
    "    return email_list\n",
    "# sap_ids = [ 123, \"234\" ]\n",
    "res = generate_email_addresses(sap_ids)\n",
    "    \n"
   ]
  },
  {
   "cell_type": "code",
   "execution_count": 15,
   "id": "d24acf1d-a8a1-47c0-ac3b-b35ef6e68177",
   "metadata": {},
   "outputs": [
    {
     "name": "stdout",
     "output_type": "stream",
     "text": [
      "[123, '234', '234234', 123123]\n",
      "['123@stu.upes.ac.in', '234@stu.upes.ac.in', '234234@stu.upes.ac.in', '123123@stu.upes.ac.in']\n"
     ]
    }
   ],
   "source": [
    "# 1 logic\n",
    "def generate_email_addresses(sap_ids):\n",
    "    email_list = [] # place holder empty list\n",
    "    for id in sap_ids:\n",
    "        email = f\"{id}@stu.upes.ac.in\"\n",
    "        email_list.append(email)\n",
    "    return email_list\n",
    "sap_ids = [ 123, \"234\",\"234234\",123123 ]\n",
    "res = generate_email_addresses(sap_ids)\n",
    "print(sap_ids)\n",
    "print(res)"
   ]
  },
  {
   "cell_type": "code",
   "execution_count": 19,
   "id": "82c2c6aa-17f7-4c28-b9f4-967b3ecb21c3",
   "metadata": {},
   "outputs": [
    {
     "name": "stdout",
     "output_type": "stream",
     "text": [
      "[123, '234', '234234', 123123]\n",
      "['123@stu.upes.ac.in', '234@stu.upes.ac.in', '234234@stu.upes.ac.in', '123123@stu.upes.ac.in']\n"
     ]
    }
   ],
   "source": [
    "res = [ f\"{id}@stu.upes.ac.in\" for id in sap_ids ]\n",
    "\n",
    "print(sap_ids)\n",
    "print(res)"
   ]
  },
  {
   "cell_type": "code",
   "execution_count": null,
   "id": "67123fae-949e-4237-8bf1-6837feb27495",
   "metadata": {},
   "outputs": [],
   "source": []
  }
 ],
 "metadata": {
  "kernelspec": {
   "display_name": "Python 3 (ipykernel)",
   "language": "python",
   "name": "python3"
  },
  "language_info": {
   "codemirror_mode": {
    "name": "ipython",
    "version": 3
   },
   "file_extension": ".py",
   "mimetype": "text/x-python",
   "name": "python",
   "nbconvert_exporter": "python",
   "pygments_lexer": "ipython3",
   "version": "3.12.4"
  }
 },
 "nbformat": 4,
 "nbformat_minor": 5
}
