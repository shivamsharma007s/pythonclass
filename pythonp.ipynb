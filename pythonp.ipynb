{
 "cells": [
  {
   "cell_type": "code",
   "execution_count": 1,
   "metadata": {},
   "outputs": [
    {
     "name": "stdout",
     "output_type": "stream",
     "text": [
      "hello, Aniket!\n"
     ]
    }
   ],
   "source": [
    "def greet(name):\n",
    "\n",
    "    \"\"\"Greets a person by their name.\"\"\"  \n",
    "    return print(f\"hello, {name}!\") \n",
    "\n",
    "greet(\"Aniket\")"
   ]
  },
  {
   "cell_type": "code",
   "execution_count": 2,
   "metadata": {},
   "outputs": [
    {
     "data": {
      "text/plain": [
       "(7, 7)"
      ]
     },
     "execution_count": 2,
     "metadata": {},
     "output_type": "execute_result"
    }
   ],
   "source": [
    "a=6  # 1 1 0\n",
    "b=1  # 0 0 1 \n",
    "c= a | b # 1 1 1 \n",
    "d = a ^ b # xor\n",
    "c,d"
   ]
  },
  {
   "cell_type": "code",
   "execution_count": 3,
   "metadata": {},
   "outputs": [],
   "source": [
    "def showDetails(*args):\n",
    "    for i in range(len(args)):\n",
    "        variable = args[i]\n",
    "        print(f\"The Value of { i+1 } variable is \\t{variable }\\t its id is \\t {id(variable)}\")\n",
    "    \n",
    "    print(\"\\n\\n\")"
   ]
  },
  {
   "cell_type": "code",
   "execution_count": 4,
   "metadata": {},
   "outputs": [
    {
     "name": "stdout",
     "output_type": "stream",
     "text": [
      "The Value of 1 variable is \t[2, 4, 6, [1, 3]]\t its id is \t 2277278196480\n",
      "The Value of 2 variable is \t[2, 4, 6, [1, 3]]\t its id is \t 2277279426240\n",
      "\n",
      "\n",
      "\n",
      "The Value of 1 variable is \t[2, 4, 6, [10, 3]]\t its id is \t 2277278196480\n",
      "The Value of 2 variable is \t[2, 44, 6, [10, 3]]\t its id is \t 2277279426240\n",
      "\n",
      "\n",
      "\n"
     ]
    },
    {
     "data": {
      "text/plain": [
       "3"
      ]
     },
     "execution_count": 4,
     "metadata": {},
     "output_type": "execute_result"
    }
   ],
   "source": [
    "import copy                        #Shallow Copy \n",
    "listA = [2, 4, 6, [1, 3]]\n",
    "listB = copy.copy(listA)\n",
    "\n",
    "showDetails(listA,listB)\n",
    "listB[1] = 44\n",
    "listB[3][0] = 10\n",
    "showDetails(listA,listB)\n",
    "listA[3][1]"
   ]
  },
  {
   "cell_type": "code",
   "execution_count": 5,
   "metadata": {},
   "outputs": [
    {
     "name": "stdout",
     "output_type": "stream",
     "text": [
      "The Value of 1 variable is \t[2, 4, 6, [1, 3]]\t its id is \t 2277278195392\n",
      "The Value of 2 variable is \t[2, 4, 6, [1, 3]]\t its id is \t 2277278195392\n",
      "\n",
      "\n",
      "\n",
      "The Value of 1 variable is \t[2, 44, 6, [1, 3]]\t its id is \t 2277278195392\n",
      "The Value of 2 variable is \t[2, 44, 6, [1, 3]]\t its id is \t 2277278195392\n",
      "\n",
      "\n",
      "\n",
      "The Value of 1 variable is \t[2, 44, 6, [1, 10]]\t its id is \t 2277278195392\n",
      "The Value of 2 variable is \t[2, 44, 6, [1, 10]]\t its id is \t 2277278195392\n",
      "\n",
      "\n",
      "\n"
     ]
    }
   ],
   "source": [
    "listA = [2, 4, 6, [1, 3]]\n",
    "listB = listA\n",
    "showDetails(listA,listB)\n",
    "listB[1] = 44\n",
    "\n",
    "showDetails(listA,listB)\n",
    "listB[3][1] = 10\n",
    "\n",
    "\n",
    "showDetails(listA,listB)"
   ]
  },
  {
   "cell_type": "code",
   "execution_count": 6,
   "metadata": {},
   "outputs": [
    {
     "name": "stdout",
     "output_type": "stream",
     "text": [
      "The Value of 1 variable is \t[2, 4, 6, [1, 3]]\t its id is \t 2277278196480\n",
      "The Value of 2 variable is \t[2, 4, 6, [1, 3]]\t its id is \t 2277279468800\n",
      "\n",
      "\n",
      "\n",
      "The Value of 1 variable is \t[2, 4, 6, [1, 3]]\t its id is \t 2277278196480\n",
      "The Value of 2 variable is \t[2, 44, 6, [55, 3]]\t its id is \t 2277279468800\n",
      "\n",
      "\n",
      "\n"
     ]
    }
   ],
   "source": [
    "import copy\n",
    "listA = [2, 4, 6, [1, 3]]\n",
    "listB = copy.deepcopy(listA)\n",
    "showDetails(listA,listB)\n",
    "listB[1] = 44\n",
    "listB[3][0] = 55\n",
    "showDetails(listA,listB)"
   ]
  },
  {
   "cell_type": "code",
   "execution_count": 7,
   "metadata": {},
   "outputs": [
    {
     "name": "stdout",
     "output_type": "stream",
     "text": [
      "hello, Aniket!\n"
     ]
    }
   ],
   "source": [
    "def greet(name):\n",
    "\n",
    "    \"\"\"Greets a person by their name.\"\"\" \n",
    "    return print(f\"hello, {name}!\") \n",
    "\n",
    "greet(\"Aniket\")"
   ]
  },
  {
   "cell_type": "code",
   "execution_count": 8,
   "metadata": {},
   "outputs": [
    {
     "name": "stdout",
     "output_type": "stream",
     "text": [
      "the sum of 5 and 3 is: 8\n"
     ]
    }
   ],
   "source": [
    "def add_two_values(a,b):\n",
    "    return a + b\n",
    "result = add_two_values(5 , 3)\n",
    "print(\"the sum of 5 and 3 is:\", result)"
   ]
  },
  {
   "cell_type": "code",
   "execution_count": 9,
   "metadata": {},
   "outputs": [],
   "source": [
    "counter = 0\n",
    "def increment():\n",
    "    global counter\n",
    "    counter += 1"
   ]
  },
  {
   "cell_type": "code",
   "execution_count": 35,
   "metadata": {},
   "outputs": [],
   "source": [
    "def modify_immutable(x):\n",
    "      x += 1\n",
    "      print(f\"Inside function: {x}\")\n",
    "      "
   ]
  },
  {
   "cell_type": "code",
   "execution_count": 11,
   "metadata": {},
   "outputs": [
    {
     "name": "stdout",
     "output_type": "stream",
     "text": [
      "Inside function: 6\n",
      "Outside function: 5\n"
     ]
    }
   ],
   "source": [
    "a = 5\n",
    "modify_immutable(a)\n",
    "print(f\"Outside function: {a}\")"
   ]
  },
  {
   "cell_type": "markdown",
   "metadata": {},
   "source": [
    " Function and Object Identity ( before and after Modification )"
   ]
  },
  {
   "cell_type": "code",
   "execution_count": 12,
   "metadata": {},
   "outputs": [
    {
     "name": "stdout",
     "output_type": "stream",
     "text": [
      "Before: 140724871494200\n",
      "After: 140724871494232\n"
     ]
    }
   ],
   "source": [
    "def modify(x):\n",
    "      print(f\"Before: {id(x)}\")\n",
    "      x += 1\n",
    "      print(f\"After: {id(x)}\")\n",
    "a = 5\n",
    "modify(a)"
   ]
  },
  {
   "cell_type": "code",
   "execution_count": 13,
   "metadata": {},
   "outputs": [
    {
     "name": "stdout",
     "output_type": "stream",
     "text": [
      "Inside function: [1, 2, 3, 4]\n",
      "Outside function: [1, 2, 3, 4]\n"
     ]
    }
   ],
   "source": [
    "def modify_mutable(lst):\n",
    "      lst.append(4)\n",
    "      print(f\"Inside function: {lst}\")\n",
    "my_list = [1, 2, 3]\n",
    "modify_mutable(my_list)\n",
    "print(f\"Outside function: {my_list}\")"
   ]
  },
  {
   "cell_type": "code",
   "execution_count": 14,
   "metadata": {},
   "outputs": [
    {
     "name": "stdout",
     "output_type": "stream",
     "text": [
      "25\n",
      "16\n"
     ]
    }
   ],
   "source": [
    "def square(x) :\n",
    "    return x * x\n",
    "   \n",
    "f = square\n",
    "print(f(5))  \n",
    "def apply_function(func, value):\n",
    "    return func(value)\n",
    "result = apply_function(square, 4)\n",
    "print(result)\n",
    "\n"
   ]
  },
  {
   "cell_type": "markdown",
   "metadata": {},
   "source": [
    "Passing functions to functions "
   ]
  },
  {
   "cell_type": "code",
   "execution_count": 15,
   "metadata": {},
   "outputs": [
    {
     "name": "stdout",
     "output_type": "stream",
     "text": [
      "1\n",
      "2\n",
      "3\n",
      "4\n",
      "5\n"
     ]
    }
   ],
   "source": [
    "def print_numbers(*args):\n",
    "\n",
    "    \"\"\"Prints each number passed as an argument.\"\"\"\n",
    "    for number in args:\n",
    "               print(number) \n",
    "\n",
    "\n",
    "print_numbers(1, 2, 3, 4, 5)"
   ]
  },
  {
   "cell_type": "markdown",
   "metadata": {},
   "source": [
    "Using KWARGS"
   ]
  },
  {
   "cell_type": "code",
   "execution_count": 28,
   "metadata": {},
   "outputs": [
    {
     "name": "stdout",
     "output_type": "stream",
     "text": [
      "name: Apan\n",
      "age: 20\n",
      "city: Gohati\n"
     ]
    }
   ],
   "source": [
    "def print_key_values(**kwargs):\n",
    "\n",
    "    \"\"\"Prints each key-value pair passed as keyword arguments.\"\"\"\n",
    "    for key, value in kwargs.items():\n",
    "        print(f\"{key}: {value}\") \n",
    "\n",
    "\n",
    "print_key_values(name=\"Apan\", age=20, city=\"Gohati\")"
   ]
  },
  {
   "cell_type": "markdown",
   "metadata": {},
   "source": [
    "( Combining Args and Kwargs )"
   ]
  },
  {
   "cell_type": "code",
   "execution_count": 29,
   "metadata": {},
   "outputs": [
    {
     "name": "stdout",
     "output_type": "stream",
     "text": [
      "Hello, Apan!\n",
      "Hello, Dheeraj!\n",
      "age: 22\n",
      "city: Dehradun\n"
     ]
    }
   ],
   "source": [
    "def greet(*args, **kwargs):\n",
    "\n",
    "    \"\"\"Greets people and provides additional information.\"\"\"\n",
    "    for name in args:\n",
    "        print(f\"Hello, {name}!\")\n",
    "    \n",
    "    for key, value in kwargs.items():\n",
    "        print(f\"{key}: {value}\")\n",
    "\n",
    "\n",
    "greet(\"Apan\", \"Dheeraj\", age=22, city=\"Dehradun\")"
   ]
  },
  {
   "cell_type": "markdown",
   "metadata": {},
   "source": [
    "Mapping Functions In A Dictionary "
   ]
  },
  {
   "cell_type": "code",
   "execution_count": 30,
   "metadata": {},
   "outputs": [
    {
     "name": "stdout",
     "output_type": "stream",
     "text": [
      "{'add': <function add at 0x00000212386DD620>, 'subtract': <function subtract at 0x00000212386DD260>}\n"
     ]
    }
   ],
   "source": [
    "def add(a, b):\n",
    "    a = 12 \n",
    "    b = 3 \n",
    "\n",
    "    return a + b\n",
    "\n",
    "def subtract(a, b):\n",
    "    return a - b\n",
    "\n",
    "operations = {\n",
    "    \"add\": add,\n",
    "    \"subtract\": subtract\n",
    "}\n",
    "\n",
    "\n",
    "operation = \"add\"\n",
    "result = operations\n",
    "print(result) "
   ]
  },
  {
   "cell_type": "code",
   "execution_count": 19,
   "metadata": {},
   "outputs": [
    {
     "name": "stdout",
     "output_type": "stream",
     "text": [
      "10\n",
      "15\n"
     ]
    }
   ],
   "source": [
    "def double(x):\n",
    "\n",
    "    return x * 2\n",
    "def triple(x):\n",
    "    return x * 3\n",
    "def apply_operation(func, number):\n",
    "    return func(number)\n",
    "print(apply_operation(double, 5))  \n",
    "print(apply_operation(triple, 5))  "
   ]
  },
  {
   "cell_type": "code",
   "execution_count": 20,
   "metadata": {},
   "outputs": [
    {
     "name": "stdout",
     "output_type": "stream",
     "text": [
      "8\n"
     ]
    }
   ],
   "source": [
    "add = lambda a, b: a + b\n",
    "print(add(3, 5))"
   ]
  },
  {
   "cell_type": "code",
   "execution_count": 21,
   "metadata": {},
   "outputs": [
    {
     "name": "stdout",
     "output_type": "stream",
     "text": [
      "[1, 4, 9, 16]\n"
     ]
    }
   ],
   "source": [
    "numbers = [1, 2, 3, 4]\n",
    "squared = map(lambda x: x * x, numbers)\n",
    "print(list(squared)) "
   ]
  },
  {
   "cell_type": "code",
   "execution_count": 22,
   "metadata": {},
   "outputs": [
    {
     "name": "stdout",
     "output_type": "stream",
     "text": [
      "[1, 4, 9, 16, 25]\n",
      "[2, 4]\n"
     ]
    }
   ],
   "source": [
    "numbers = [1 , 2 , 3 , 4 , 5]\n",
    "squared = map(lambda x: x * x, numbers)\n",
    "print(list(squared)) \n",
    "\n",
    "even_numbers = filter(lambda x: x % 2 == 0, numbers) \n",
    "print(list(even_numbers))"
   ]
  },
  {
   "cell_type": "markdown",
   "metadata": {},
   "source": [
    "Passing arguments to functions in python "
   ]
  },
  {
   "cell_type": "code",
   "execution_count": 31,
   "metadata": {},
   "outputs": [
    {
     "name": "stdout",
     "output_type": "stream",
     "text": [
      "Hello, ANiket! Welcome to the team!\n"
     ]
    }
   ],
   "source": [
    "def greet(name, message):\n",
    "         return f\"Hello, {name}! {message}\"\n",
    "print(greet(\"ANiket\", \"Welcome to the team!\"))"
   ]
  },
  {
   "cell_type": "markdown",
   "metadata": {},
   "source": [
    "Default Arguments "
   ]
  },
  {
   "cell_type": "code",
   "execution_count": 32,
   "metadata": {},
   "outputs": [
    {
     "name": "stdout",
     "output_type": "stream",
     "text": [
      "Hello, Musani! Welcome!\n",
      "Hello, Sunravi! Good to see you!\n"
     ]
    }
   ],
   "source": [
    "def greet(name, message=\"Welcome!\"):\n",
    "         return f\"Hello, {name}! {message}\"\n",
    "print(greet(\"Musani\"))  # Uses default message\n",
    "print(greet(\"Sunravi\", \"Good to see you!\"))  # Overrides default"
   ]
  },
  {
   "cell_type": "markdown",
   "metadata": {},
   "source": [
    "Arbitrary Positional Arguments "
   ]
  },
  {
   "cell_type": "code",
   "execution_count": 33,
   "metadata": {},
   "outputs": [
    {
     "name": "stdout",
     "output_type": "stream",
     "text": [
      "Hello, Dheeraj!\n",
      "Hello, Apan!\n",
      "Hello, Chirag!\n"
     ]
    }
   ],
   "source": [
    "def greet(*names):\n",
    "         for name in names:\n",
    "             print(f\"Hello, {name}!\")\n",
    "greet(\"Dheeraj\", \"Apan\", \"Chirag\")"
   ]
  },
  {
   "cell_type": "markdown",
   "metadata": {},
   "source": [
    "Arbitrary Keyword Arguments "
   ]
  },
  {
   "cell_type": "code",
   "execution_count": 34,
   "metadata": {},
   "outputs": [
    {
     "name": "stdout",
     "output_type": "stream",
     "text": [
      "name: Aniket\n",
      "age: 20\n",
      "job: Engineer\n"
     ]
    }
   ],
   "source": [
    "def describe_person(**info):\n",
    "         for key, value in info.items():\n",
    "             print(f\"{key}: {value}\")\n",
    "describe_person(name=\"Aniket\", age=20, job=\"Engineer\")"
   ]
  },
  {
   "cell_type": "markdown",
   "metadata": {},
   "source": [
    "Returning values from functions and Multiple values "
   ]
  },
  {
   "cell_type": "code",
   "execution_count": 27,
   "metadata": {},
   "outputs": [
    {
     "name": "stdout",
     "output_type": "stream",
     "text": [
      "8\n",
      "2 1\n"
     ]
    }
   ],
   "source": [
    "def add(a, b):\n",
    "\n",
    "    return a + b\n",
    "result = add(5, 3)\n",
    "print(result)\n",
    "\n",
    "def swap(a, b):\n",
    "\n",
    "    return b, a\n",
    "x, y = swap(1, 2)\n",
    "print(x, y)  "
   ]
  },
  {
   "cell_type": "code",
   "execution_count": null,
   "metadata": {},
   "outputs": [],
   "source": []
  }
 ],
 "metadata": {
  "kernelspec": {
   "display_name": "Python 3",
   "language": "python",
   "name": "python3"
  },
  "language_info": {
   "codemirror_mode": {
    "name": "ipython",
    "version": 3
   },
   "file_extension": ".py",
   "mimetype": "text/x-python",
   "name": "python",
   "nbconvert_exporter": "python",
   "pygments_lexer": "ipython3",
   "version": "3.12.4"
  }
 },
 "nbformat": 4,
 "nbformat_minor": 2
}
